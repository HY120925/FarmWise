{
 "cells": [
  {
   "cell_type": "code",
   "execution_count": 5,
   "id": "802afb74",
   "metadata": {},
   "outputs": [],
   "source": [
    "import pandas as pd\n",
    "import numpy as np\n",
    "import joblib\n",
    "\n",
    "from sklearn.model_selection import train_test_split\n",
    "from sklearn.preprocessing import OneHotEncoder, StandardScaler, LabelEncoder\n",
    "from sklearn.compose import ColumnTransformer\n",
    "from sklearn.pipeline import Pipeline\n",
    "from sklearn.metrics import accuracy_score, f1_score, classification_report, mean_squared_error, r2_score\n",
    "\n",
    "from xgboost import XGBClassifier, XGBRegressor"
   ]
  },
  {
   "cell_type": "code",
   "execution_count": 6,
   "id": "2b160168",
   "metadata": {},
   "outputs": [
    {
     "name": "stdout",
     "output_type": "stream",
     "text": [
      "✅ Dataset shape: (1048575, 7)\n",
      "Columns: ['soil_type', 'crop', 'region', 'fertilizer_used', 'yield_tons', 'water_usage', 'irrigation_type']\n"
     ]
    }
   ],
   "source": [
    "df = pd.read_csv(\"../data/processed/final_training_dataset.csv\")\n",
    "print(\"✅ Dataset shape:\", df.shape)\n",
    "print(\"Columns:\", df.columns.tolist())"
   ]
  },
  {
   "cell_type": "code",
   "execution_count": 7,
   "id": "e82c9706",
   "metadata": {},
   "outputs": [],
   "source": [
    "target_crop = \"crop\"\n",
    "target_yield = \"yield_tons\"\n",
    "target_resources = [\"fertilizer_used\", \"water_usage\"]\n"
   ]
  },
  {
   "cell_type": "code",
   "execution_count": 8,
   "id": "19243bba",
   "metadata": {},
   "outputs": [
    {
     "data": {
      "text/plain": [
       "['../models/crop_encoder.pkl']"
      ]
     },
     "execution_count": 8,
     "metadata": {},
     "output_type": "execute_result"
    }
   ],
   "source": [
    "X = df.drop([target_crop, target_yield] + target_resources, axis=1, errors=\"ignore\")\n",
    "\n",
    "# ===============================\n",
    "# 🏷️ Encode crop labels\n",
    "# ===============================\n",
    "crop_encoder = LabelEncoder()\n",
    "y_crop_encoded = crop_encoder.fit_transform(df[target_crop])\n",
    "\n",
    "joblib.dump(crop_encoder, \"../models/crop_encoder.pkl\")"
   ]
  },
  {
   "cell_type": "code",
   "execution_count": 9,
   "id": "9b185a69",
   "metadata": {},
   "outputs": [],
   "source": [
    "# Yield regression target\n",
    "y_yield = df[target_yield]\n",
    "\n",
    "# Resource regression targets\n",
    "y_resources = df[target_resources]\n"
   ]
  },
  {
   "cell_type": "code",
   "execution_count": 10,
   "id": "41e2950b",
   "metadata": {},
   "outputs": [],
   "source": [
    "# ===================================\n",
    "# 🔄 Preprocessing\n",
    "# ===================================\n",
    "categorical = X.select_dtypes(include=[\"object\"]).columns.tolist()\n",
    "numerical = X.select_dtypes(exclude=[\"object\"]).columns.tolist()\n",
    "\n",
    "preprocessor = ColumnTransformer(\n",
    "    transformers=[\n",
    "        (\"num\", StandardScaler(), numerical),\n",
    "        (\"cat\", OneHotEncoder(handle_unknown=\"ignore\"), categorical),\n",
    "    ]\n",
    ")"
   ]
  },
  {
   "cell_type": "code",
   "execution_count": 11,
   "id": "ec58219b",
   "metadata": {},
   "outputs": [
    {
     "name": "stderr",
     "output_type": "stream",
     "text": [
      "c:\\Users\\yoges\\Desktop\\YOGESH\\Study\\PY\\Project\\FarmWise\\venv310\\lib\\site-packages\\xgboost\\sklearn.py:1395: UserWarning: `use_label_encoder` is deprecated in 1.7.0.\n",
      "  warnings.warn(\"`use_label_encoder` is deprecated in 1.7.0.\")\n"
     ]
    },
    {
     "name": "stdout",
     "output_type": "stream",
     "text": [
      "\n",
      "🌾 Crop Classification Results:\n",
      "Accuracy: 0.38697756479031065\n",
      "F1 Score: 0.27630906374914294\n",
      "              precision    recall  f1-score   support\n",
      "\n",
      "      Barley       0.41      0.71      0.52     47128\n",
      "      Cotton       0.67      0.28      0.40     47383\n",
      "       Maize       0.00      0.00      0.00     20332\n",
      "        Rice       0.25      0.28      0.26     33860\n",
      "     Soybean       0.35      0.73      0.47     33876\n",
      "       Wheat       0.00      0.00      0.00     27136\n",
      "\n",
      "    accuracy                           0.39    209715\n",
      "   macro avg       0.28      0.33      0.28    209715\n",
      "weighted avg       0.34      0.39      0.33    209715\n",
      "\n"
     ]
    },
    {
     "name": "stderr",
     "output_type": "stream",
     "text": [
      "c:\\Users\\yoges\\Desktop\\YOGESH\\Study\\PY\\Project\\FarmWise\\venv310\\lib\\site-packages\\sklearn\\metrics\\_classification.py:1731: UndefinedMetricWarning: Precision is ill-defined and being set to 0.0 in labels with no predicted samples. Use `zero_division` parameter to control this behavior.\n",
      "  _warn_prf(average, modifier, f\"{metric.capitalize()} is\", result.shape[0])\n",
      "c:\\Users\\yoges\\Desktop\\YOGESH\\Study\\PY\\Project\\FarmWise\\venv310\\lib\\site-packages\\sklearn\\metrics\\_classification.py:1731: UndefinedMetricWarning: Precision is ill-defined and being set to 0.0 in labels with no predicted samples. Use `zero_division` parameter to control this behavior.\n",
      "  _warn_prf(average, modifier, f\"{metric.capitalize()} is\", result.shape[0])\n",
      "c:\\Users\\yoges\\Desktop\\YOGESH\\Study\\PY\\Project\\FarmWise\\venv310\\lib\\site-packages\\sklearn\\metrics\\_classification.py:1731: UndefinedMetricWarning: Precision is ill-defined and being set to 0.0 in labels with no predicted samples. Use `zero_division` parameter to control this behavior.\n",
      "  _warn_prf(average, modifier, f\"{metric.capitalize()} is\", result.shape[0])\n"
     ]
    },
    {
     "data": {
      "text/plain": [
       "['../models/crop_model.pkl']"
      ]
     },
     "execution_count": 11,
     "metadata": {},
     "output_type": "execute_result"
    }
   ],
   "source": [
    "\n",
    "# ===================================\n",
    "# 🌾 Crop Classification (XGBoost)\n",
    "# ===================================\n",
    "clf_pipeline = Pipeline(steps=[\n",
    "    (\"preprocessor\", preprocessor),\n",
    "    (\"clf\", XGBClassifier(\n",
    "        n_estimators=400,\n",
    "        max_depth=8,\n",
    "        learning_rate=0.05,\n",
    "        subsample=0.9,\n",
    "        colsample_bytree=0.9,\n",
    "        eval_metric=\"mlogloss\",\n",
    "        use_label_encoder=False,\n",
    "        random_state=42\n",
    "    ))\n",
    "])\n",
    "\n",
    "X_train, X_test, y_train, y_test = train_test_split(\n",
    "    X, y_crop_encoded, test_size=0.2, stratify=y_crop_encoded, random_state=42\n",
    ")\n",
    "\n",
    "clf_pipeline.fit(X_train, y_train)\n",
    "y_pred = clf_pipeline.predict(X_test)\n",
    "\n",
    "print(\"\\n🌾 Crop Classification Results:\")\n",
    "print(\"Accuracy:\", accuracy_score(y_test, y_pred))\n",
    "print(\"F1 Score:\", f1_score(y_test, y_pred, average=\"macro\"))\n",
    "print(classification_report(y_test, y_pred, target_names=crop_encoder.classes_))\n",
    "\n",
    "joblib.dump(clf_pipeline, \"../models/crop_model.pkl\")"
   ]
  },
  {
   "cell_type": "code",
   "execution_count": 12,
   "id": "b6183d3e",
   "metadata": {},
   "outputs": [
    {
     "name": "stdout",
     "output_type": "stream",
     "text": [
      "\n",
      "🌱 Yield Regression Results:\n",
      "\n",
      "🌱 Yield Regression Results:\n",
      "RMSE: 12.846150711482036\n",
      "R² Score: 0.12135470027747763\n",
      "R² Score: 0.12135470027747763\n"
     ]
    },
    {
     "data": {
      "text/plain": [
       "['../models/yield_model.pkl']"
      ]
     },
     "execution_count": 12,
     "metadata": {},
     "output_type": "execute_result"
    }
   ],
   "source": [
    "# ===================================\n",
    "# 🌱 Yield Regression (XGBoost)\n",
    "# ===================================\n",
    "reg_yield_pipeline = Pipeline(steps=[\n",
    "    (\"preprocessor\", preprocessor),\n",
    "    (\"reg\", XGBRegressor(\n",
    "        n_estimators=400,\n",
    "        max_depth=8,\n",
    "        learning_rate=0.05,\n",
    "        subsample=0.9,\n",
    "        colsample_bytree=0.9,\n",
    "        random_state=42\n",
    "    ))\n",
    "])\n",
    "\n",
    "X_train, X_test, y_train, y_test = train_test_split(X, y_yield, test_size=0.2, random_state=42)\n",
    "\n",
    "reg_yield_pipeline.fit(X_train, y_train)\n",
    "y_pred = reg_yield_pipeline.predict(X_test)\n",
    "\n",
    "print(\"\\n🌱 Yield Regression Results:\")\n",
    "from sklearn.metrics import mean_squared_error, r2_score\n",
    "import numpy as np\n",
    "print(\"\\n🌱 Yield Regression Results:\")\n",
    "rmse = np.sqrt(mean_squared_error(y_test, y_pred))   # <-- manual square root\n",
    "print(\"RMSE:\", rmse)\n",
    "print(\"R² Score:\", r2_score(y_test, y_pred))\n",
    "print(\"R² Score:\", r2_score(y_test, y_pred))\n",
    "joblib.dump(reg_yield_pipeline, \"../models/yield_model.pkl\")"
   ]
  },
  {
   "cell_type": "code",
   "execution_count": 15,
   "id": "e776dc11",
   "metadata": {},
   "outputs": [
    {
     "name": "stdout",
     "output_type": "stream",
     "text": [
      "\n",
      "🔧 Training resource model for: fertilizer_used\n",
      "\n",
      "🌱 Yield Regression Results:\n",
      "RMSE: 2.5538254646155303\n",
      "R² Score: 0.116131912059663\n",
      "R² (fertilizer_used): 0.116131912059663\n",
      "\n",
      "🔧 Training resource model for: water_usage\n",
      "\n",
      "🌱 Yield Regression Results:\n",
      "RMSE: 22706.955092170403\n",
      "R² Score: 0.24045858326716618\n",
      "R² (water_usage): 0.24045858326716618\n",
      "\n",
      "✅ All models trained and saved successfully.\n"
     ]
    }
   ],
   "source": [
    "\n",
    "# ===================================\n",
    "# 💧 Resource Models (fertilizer, water)\n",
    "# ===================================\n",
    "for resource in target_resources:\n",
    "    print(f\"\\n🔧 Training resource model for: {resource}\")\n",
    "    reg_resource_pipeline = Pipeline(steps=[\n",
    "        (\"preprocessor\", preprocessor),\n",
    "        (\"reg\", XGBRegressor(\n",
    "            n_estimators=300,\n",
    "            max_depth=7,\n",
    "            learning_rate=0.07,\n",
    "            subsample=0.9,\n",
    "            colsample_bytree=0.9,\n",
    "            random_state=42\n",
    "        ))\n",
    "    ])\n",
    "\n",
    "    X_train, X_test, y_train, y_test = train_test_split(X, y_resources[resource], test_size=0.2, random_state=42)\n",
    "\n",
    "    reg_resource_pipeline.fit(X_train, y_train)\n",
    "    y_pred = reg_resource_pipeline.predict(X_test)\n",
    "    from sklearn.metrics import mean_squared_error, r2_score\n",
    "    import numpy as np\n",
    "\n",
    "    print(\"\\n🌱 Yield Regression Results:\")\n",
    "    rmse = np.sqrt(mean_squared_error(y_test, y_pred))   # <-- manual square root\n",
    "    print(\"RMSE:\", rmse)\n",
    "    print(\"R² Score:\", r2_score(y_test, y_pred))\n",
    "\n",
    "    print(f\"R² ({resource}):\", r2_score(y_test, y_pred))\n",
    "\n",
    "    joblib.dump(reg_resource_pipeline, f\"../models/{resource}_model.pkl\")\n",
    "\n",
    "print(\"\\n✅ All models trained and saved successfully.\")\n"
   ]
  }
 ],
 "metadata": {
  "kernelspec": {
   "display_name": "venv310",
   "language": "python",
   "name": "python3"
  },
  "language_info": {
   "codemirror_mode": {
    "name": "ipython",
    "version": 3
   },
   "file_extension": ".py",
   "mimetype": "text/x-python",
   "name": "python",
   "nbconvert_exporter": "python",
   "pygments_lexer": "ipython3",
   "version": "3.10.11"
  }
 },
 "nbformat": 4,
 "nbformat_minor": 5
}
