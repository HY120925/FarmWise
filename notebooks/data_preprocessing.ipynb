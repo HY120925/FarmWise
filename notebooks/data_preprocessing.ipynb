{
 "cells": [
  {
   "cell_type": "code",
   "execution_count": 1,
   "id": "2da3126b",
   "metadata": {},
   "outputs": [],
   "source": [
    "import pandas as pd\n",
    "import numpy as np"
   ]
  },
  {
   "cell_type": "code",
   "execution_count": 2,
   "id": "f741b5ba",
   "metadata": {},
   "outputs": [],
   "source": [
    "crop_yield = pd.read_csv(\"../data/raw/Crop_yield_prediction.csv\")\n",
    "faostat = pd.read_csv(\"../data/raw/Faostat_yield_price.csv\")\n",
    "karnataka = pd.read_csv(\"../data/raw/Karnataka_agri.csv\")\n",
    "soil_weather = pd.read_csv(\"../data/raw/Soil and Weather Prediction.csv\")"
   ]
  },
  {
   "cell_type": "code",
   "execution_count": 3,
   "id": "b5943d92",
   "metadata": {},
   "outputs": [],
   "source": [
    "crop_yield = crop_yield.rename(columns={\n",
    "    \"Region\": \"location\",\n",
    "    \"Soil_Type\": \"soil_type\",\n",
    "    \"Crop\": \"crop\",\n",
    "    \"Rainfall_mm\": \"rainfall\",\n",
    "    \"Temperature_Celsius\": \"temperature\",\n",
    "    \"Yield_tons_per_hectare\": \"yield\"\n",
    "})\n",
    "crop_yield = crop_yield[[\"location\", \"soil_type\", \"crop\", \"rainfall\", \"temperature\", \"yield\"]]"
   ]
  },
  {
   "cell_type": "code",
   "execution_count": 4,
   "id": "8f23b5a9",
   "metadata": {},
   "outputs": [],
   "source": [
    "faostat = faostat.rename(columns=lambda x: x.strip().lower())\n",
    "faostat = faostat[[\"area\", \"item\", \"year\", \"element\", \"value\"]]\n",
    "faostat = faostat.rename(columns={\n",
    "    \"area\": \"location\",\n",
    "    \"item\": \"crop\",\n",
    "    \"year\": \"year\"\n",
    "})"
   ]
  },
  {
   "cell_type": "code",
   "execution_count": 5,
   "id": "87e89a75",
   "metadata": {},
   "outputs": [],
   "source": [
    "faostat_pivot = faostat.pivot_table(\n",
    "    index=[\"location\", \"crop\", \"year\"],\n",
    "    columns=\"element\",\n",
    "    values=\"value\",\n",
    "    aggfunc=\"mean\"\n",
    ").reset_index()\n",
    "faostat_pivot = faostat_pivot.rename(columns={\n",
    "    \"Yield\": \"yield_faostat\",\n",
    "    \"Production\": \"production\",\n",
    "    \"Area harvested\": \"area\",\n",
    "    \"Producer Price (USD/tonne)\": \"price\"\n",
    "})"
   ]
  },
  {
   "cell_type": "code",
   "execution_count": 7,
   "id": "1be0d36c",
   "metadata": {},
   "outputs": [],
   "source": [
    "karnataka = karnataka.rename(columns={\n",
    "    \"Year\": \"year\",\n",
    "    \"Location\": \"location\",\n",
    "    \"Rainfall\": \"rainfall\",\n",
    "    \"Temperature\": \"temperature\",\n",
    "    \"Soil type\": \"soil_type\",\n",
    "    \"yeilds\": \"yield\",\n",
    "    \"Crops\": \"crop\",\n",
    "    \"price\": \"price\",\n",
    "    \"Humidity\": \"humidity\"\n",
    "})\n",
    "karnataka = karnataka[[\"location\", \"year\", \"soil_type\", \"crop\", \"rainfall\", \"temperature\", \"humidity\", \"yield\", \"price\"]]\n"
   ]
  },
  {
   "cell_type": "code",
   "execution_count": 8,
   "id": "8fab3ef3",
   "metadata": {},
   "outputs": [],
   "source": [
    "soil_weather = soil_weather.rename(columns=lambda x: x.strip().lower())\n",
    "soil_weather = soil_weather.rename(columns={\n",
    "    \"location\": \"location\",\n",
    "    \"year\": \"year\",\n",
    "    \"soil_type\": \"soil_type\",\n",
    "    \"crop\": \"crop\",\n",
    "    \"rainfall\": \"rainfall\",\n",
    "    \"temperature\": \"temperature\",\n",
    "    \"humidity\": \"humidity\"\n",
    "})"
   ]
  },
  {
   "cell_type": "code",
   "execution_count": 9,
   "id": "75c4e2e2",
   "metadata": {},
   "outputs": [],
   "source": [
    "all_data = pd.concat([\n",
    "    crop_yield,\n",
    "    faostat_pivot,\n",
    "    karnataka,\n",
    "    soil_weather\n",
    "], ignore_index=True, sort=False)\n"
   ]
  },
  {
   "cell_type": "code",
   "execution_count": 10,
   "id": "57bb15c8",
   "metadata": {},
   "outputs": [],
   "source": [
    "for col in [\"location\", \"year\", \"soil_type\", \"crop\", \"rainfall\", \"temperature\", \"humidity\", \"yield\", \"price\"]:\n",
    "    if col not in all_data.columns:\n",
    "        all_data[col] = np.nan"
   ]
  },
  {
   "cell_type": "code",
   "execution_count": 11,
   "id": "b56b0330",
   "metadata": {},
   "outputs": [],
   "source": [
    "all_data = all_data[[\"location\", \"year\", \"soil_type\", \"crop\", \"rainfall\", \"temperature\", \"humidity\", \"yield\", \"price\"]]\n",
    "all_data.drop_duplicates(inplace=True)\n"
   ]
  },
  {
   "cell_type": "code",
   "execution_count": 12,
   "id": "88877cfe",
   "metadata": {},
   "outputs": [
    {
     "name": "stdout",
     "output_type": "stream",
     "text": [
      "✅ Master dataset saved to ../data/processed/master_dataset.csv\n",
      "Final shape: (1004002, 9)\n",
      "   location  year soil_type     crop    rainfall  temperature  humidity  \\\n",
      "0      West   NaN     Sandy   Cotton  897.077239    27.676966       NaN   \n",
      "1     South   NaN      Clay     Rice  992.673282    18.026142       NaN   \n",
      "2     North   NaN      Loam   Barley  147.998025    29.794042       NaN   \n",
      "3     North   NaN     Sandy  Soybean  986.866331    16.644190       NaN   \n",
      "4     South   NaN      Silt    Wheat  730.379174    31.620687       NaN   \n",
      "5     South   NaN      Silt  Soybean  797.471182    37.704974       NaN   \n",
      "6      West   NaN      Clay    Wheat  357.902357    31.593431       NaN   \n",
      "7     South   NaN     Sandy     Rice  441.131154    30.887107       NaN   \n",
      "8     North   NaN      Silt    Wheat  181.587861    26.752729       NaN   \n",
      "9      West   NaN     Sandy    Wheat  395.048968    17.646199       NaN   \n",
      "10    North   NaN     Peaty    Wheat  385.135314    21.656192       NaN   \n",
      "11     East   NaN     Sandy   Cotton  145.300681    19.755535       NaN   \n",
      "12    South   NaN     Peaty   Cotton  607.150252    15.562163       NaN   \n",
      "13     East   NaN      Clay   Barley  929.123735    29.677303       NaN   \n",
      "14    North   NaN     Peaty   Barley  621.778388    26.843173       NaN   \n",
      "15     East   NaN    Chalky     Rice  874.456744    27.256869       NaN   \n",
      "16     East   NaN     Peaty    Wheat  787.084306    25.672920       NaN   \n",
      "17    North   NaN      Clay   Cotton  416.898632    23.190810       NaN   \n",
      "18    North   NaN     Sandy   Barley  977.259083    17.604100       NaN   \n",
      "19    South   NaN      Clay    Maize  888.207630    39.945509       NaN   \n",
      "\n",
      "       yield  price  \n",
      "0   6.555816    NaN  \n",
      "1   8.527341    NaN  \n",
      "2   1.127443    NaN  \n",
      "3   6.517573    NaN  \n",
      "4   7.248251    NaN  \n",
      "5   5.898416    NaN  \n",
      "6   2.652392    NaN  \n",
      "7   5.829542    NaN  \n",
      "8   2.943716    NaN  \n",
      "9   3.707293    NaN  \n",
      "10  2.564442    NaN  \n",
      "11  4.367612    NaN  \n",
      "12  6.525186    NaN  \n",
      "13  6.493031    NaN  \n",
      "14  4.573219    NaN  \n",
      "15  5.839291    NaN  \n",
      "16  4.366881    NaN  \n",
      "17  4.858924    NaN  \n",
      "18  5.778099    NaN  \n",
      "19  7.173037    NaN  \n"
     ]
    }
   ],
   "source": [
    "output_path = \"../data/processed/master_dataset.csv\"\n",
    "all_data.to_csv(output_path, index=False)\n",
    "\n",
    "print(f\"✅ Master dataset saved to {output_path}\")\n",
    "print(\"Final shape:\", all_data.shape)\n",
    "print(all_data.head(20))"
   ]
  },
  {
   "cell_type": "code",
   "execution_count": null,
   "id": "77ec3672",
   "metadata": {},
   "outputs": [],
   "source": []
  }
 ],
 "metadata": {
  "kernelspec": {
   "display_name": "venv310",
   "language": "python",
   "name": "python3"
  },
  "language_info": {
   "codemirror_mode": {
    "name": "ipython",
    "version": 3
   },
   "file_extension": ".py",
   "mimetype": "text/x-python",
   "name": "python",
   "nbconvert_exporter": "python",
   "pygments_lexer": "ipython3",
   "version": "3.10.11"
  }
 },
 "nbformat": 4,
 "nbformat_minor": 5
}
